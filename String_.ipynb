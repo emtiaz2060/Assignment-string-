{
  "nbformat": 4,
  "nbformat_minor": 0,
  "metadata": {
    "colab": {
      "provenance": [],
      "authorship_tag": "ABX9TyOqOq42FS2YqN3hVZgP3p1S",
      "include_colab_link": true
    },
    "kernelspec": {
      "name": "python3",
      "display_name": "Python 3"
    },
    "language_info": {
      "name": "python"
    }
  },
  "cells": [
    {
      "cell_type": "markdown",
      "metadata": {
        "id": "view-in-github",
        "colab_type": "text"
      },
      "source": [
        "<a href=\"https://colab.research.google.com/github/emtiaz2060/Assignment-string-/blob/main/String_.ipynb\" target=\"_parent\"><img src=\"https://colab.research.google.com/assets/colab-badge.svg\" alt=\"Open In Colab\"/></a>"
      ]
    },
    {
      "cell_type": "code",
      "source": [
        "#Task 01\n",
        "string = input(\"Enter a string: \")\n",
        "index = len(string) - 1\n",
        "for i in range(index,-1,-1) :\n",
        "  print(string[i],end=\"\")"
      ],
      "metadata": {
        "colab": {
          "base_uri": "https://localhost:8080/"
        },
        "id": "SZPWIChREmd4",
        "outputId": "83820f48-4296-4ead-b6ab-7c6fbf96f56b"
      },
      "execution_count": null,
      "outputs": [
        {
          "output_type": "stream",
          "name": "stdout",
          "text": [
            "Enter a string: Python\n",
            "nohtyP"
          ]
        }
      ]
    },
    {
      "cell_type": "code",
      "source": [
        "#Task 2\n",
        "user = input(\"Enter a string: \")\n",
        "index = int(input(\"Enter the input: \"))\n",
        "reverse = user[index : : -1]\n",
        "rem = user[index+1:]\n",
        "last = reverse + rem\n",
        "print(last)"
      ],
      "metadata": {
        "colab": {
          "base_uri": "https://localhost:8080/"
        },
        "id": "I2YtbwFYE7sB",
        "outputId": "aecc7ea9-b574-4b45-a4aa-5095402a5049"
      },
      "execution_count": null,
      "outputs": [
        {
          "output_type": "stream",
          "name": "stdout",
          "text": [
            "Enter a string: 72418 \n",
            "Enter the input: 4\n",
            "81427 \n"
          ]
        }
      ]
    },
    {
      "cell_type": "code",
      "source": [
        "#Task 3\n",
        "user = input(\"Enter string: \")\n",
        "count = 0\n",
        "for i in user:\n",
        "  if i != '1' and i != '0':\n",
        "    count = count + 1\n",
        "if count != 0:\n",
        "  print(\"Not a Binary Number\")\n",
        "elif count == 0:\n",
        "  print(\"Binary number\")"
      ],
      "metadata": {
        "colab": {
          "base_uri": "https://localhost:8080/"
        },
        "id": "jMbM0JHuFGW3",
        "outputId": "997841ed-0ef2-46da-aa4c-c85caf996600"
      },
      "execution_count": null,
      "outputs": [
        {
          "output_type": "stream",
          "name": "stdout",
          "text": [
            "Enter string: 01101101101\n",
            "Binary number\n"
          ]
        }
      ]
    },
    {
      "cell_type": "code",
      "source": [
        "#Task 4\n",
        "string = input(\"Enter a string: \")\n",
        "length = len(string)\n",
        "index = length - 2\n",
        "last_alph = string[index : ]\n",
        "\n",
        "if length > 3 and last_alph != 'er' and 'e'+last_alph != 'est':\n",
        "    new_string = string+'er'\n",
        "    print(new_string)    \n",
        "    \n",
        "elif length > 3 and last_alph == 'er' :\n",
        "    new_string2 = string[0:(length-1)] + 'est'\n",
        "    print(new_string2)\n",
        "\n",
        "elif length > 3 and 'e'+last_alph == 'est':\n",
        "    print(string)    \n",
        "    \n",
        "else :\n",
        "     if length < 3 and last_alph == 'er':\n",
        "         new_string3 = string[0:(length-1)]+'est'\n",
        "         \n",
        "     else:\n",
        "         print(string)"
      ],
      "metadata": {
        "colab": {
          "base_uri": "https://localhost:8080/"
        },
        "id": "OFCZ6yx0FPFW",
        "outputId": "4c575d9d-e4a8-4060-a5ac-d60faeed4aba"
      },
      "execution_count": null,
      "outputs": [
        {
          "output_type": "stream",
          "name": "stdout",
          "text": [
            "Enter a string: strong\n",
            "stronger\n"
          ]
        }
      ]
    },
    {
      "cell_type": "code",
      "source": [
        "#Task 5\n",
        "string = input(\"Please enter a string: \")\n",
        "for i in range(len(string)):\n",
        "  print(string[0:i+1])"
      ],
      "metadata": {
        "colab": {
          "base_uri": "https://localhost:8080/"
        },
        "id": "Qo4hsQ7EFbz8",
        "outputId": "f10abe4a-deda-49ab-c647-61b92611688b"
      },
      "execution_count": null,
      "outputs": [
        {
          "output_type": "stream",
          "name": "stdout",
          "text": [
            "Please enter a string: BANGLA\n",
            "B\n",
            "BA\n",
            "BAN\n",
            "BANG\n",
            "BANGL\n",
            "BANGLA\n"
          ]
        }
      ]
    },
    {
      "cell_type": "code",
      "source": [
        "#Task 6 \n",
        "user = input(\"Enter a string: \")\n",
        "for i in user:\n",
        "  print(i,\":\",ord(i))"
      ],
      "metadata": {
        "colab": {
          "base_uri": "https://localhost:8080/"
        },
        "id": "0ynILCYQFlvT",
        "outputId": "c7cee037-9090-4b07-9923-cef7d29cf414"
      },
      "execution_count": null,
      "outputs": [
        {
          "output_type": "stream",
          "name": "stdout",
          "text": [
            "Enter a string: Programming\n",
            "P : 80\n",
            "r : 114\n",
            "o : 111\n",
            "g : 103\n",
            "r : 114\n",
            "a : 97\n",
            "m : 109\n",
            "m : 109\n",
            "i : 105\n",
            "n : 110\n",
            "g : 103\n"
          ]
        }
      ]
    },
    {
      "cell_type": "code",
      "source": [
        "#Task 7\n",
        "alph = input(\"Enter alphabets (multiple): \")\n",
        "for i in alph:\n",
        "  if i != 'z':\n",
        "    new1 = chr(ord(i)+1)\n",
        "    print(new1,end=\"\")\n",
        "  if i == 'z' :\n",
        "    new2 = chr(ord('a'))\n",
        "    print(new2,end=\"\")"
      ],
      "metadata": {
        "colab": {
          "base_uri": "https://localhost:8080/"
        },
        "id": "Eb-3PQqSFw3t",
        "outputId": "1760b0b9-9aa5-4c29-9b76-791981275737"
      },
      "execution_count": null,
      "outputs": [
        {
          "output_type": "stream",
          "name": "stdout",
          "text": [
            "Enter alphabets (multiple): abcd\n",
            "bcde"
          ]
        }
      ]
    },
    {
      "cell_type": "code",
      "source": [
        "#Task 8\n",
        "word=input(\"Enter a string: \")\n",
        "length = len(word)\n",
        "add=''\n",
        "\n",
        "for i in range(length):\n",
        "  if i%2==0:\n",
        "     pass\n",
        "  else:\n",
        "     convert=chr(ord(word[i])-32)\n",
        "     add=add+convert\n",
        "print(add)"
      ],
      "metadata": {
        "colab": {
          "base_uri": "https://localhost:8080/"
        },
        "id": "OV-imvuZF6-0",
        "outputId": "f1bb782d-34d3-47bd-a292-d30695adb88a"
      },
      "execution_count": null,
      "outputs": [
        {
          "output_type": "stream",
          "name": "stdout",
          "text": [
            "Enter a string: String\n",
            "TIG\n"
          ]
        }
      ]
    },
    {
      "cell_type": "code",
      "source": [
        "#Task 09 \n",
        "string = input(\"Enter a string: \")\n",
        "new_string = ''\n",
        "length = len(string) \n",
        "for i in range(length-1):\n",
        "    if string[i] != string[i+1]:\n",
        "        new_string = new_string + string[i]\n",
        "print(new_string)"
      ],
      "metadata": {
        "colab": {
          "base_uri": "https://localhost:8080/"
        },
        "id": "DvDaYmlZGN0N",
        "outputId": "4670f2be-3e2b-4f5e-f2e4-84fa47aa8901"
      },
      "execution_count": null,
      "outputs": [
        {
          "output_type": "stream",
          "name": "stdout",
          "text": [
            "Enter a string: AAABBBBCDDBBECE\n",
            "ABCDBEC\n"
          ]
        }
      ]
    },
    {
      "cell_type": "code",
      "source": [
        "#Task 10\n",
        "count = -1\n",
        "user = input(\"Enter string: \")\n",
        "length = len(user)\n",
        "new_string = ''\n",
        "for i in user:\n",
        "  count = count + 1\n",
        "  if i == \",\" :\n",
        "    break\n",
        "string1 = user[0:count]\n",
        "string2 = user[count+1:]\n",
        "\n",
        "if len(string1) == len(string2):\n",
        "  for i in range(len(string1)):\n",
        "    new_string = new_string + string1[i] + string2[i]\n",
        "print(new_string)  \n",
        "\n",
        "random_string = ''\n",
        "if len(string1) > len(string2):\n",
        "  for j in range(len(string2)):\n",
        "    random_string = random_string + string1[j] + string2[j]\n",
        "new_string = random_string + string1[len(string2):]\n",
        "print(new_string)\n",
        "\n",
        "random_string2 = ''\n",
        "if len(string1) < len(string2):\n",
        "  for k in range(len(string1)):\n",
        "    random_string2 = random_string2 + string1[k] + string2[k]\n",
        "new_string = random_string2 + string2[len(string1):]    \n",
        "print(new_string)"
      ],
      "metadata": {
        "colab": {
          "base_uri": "https://localhost:8080/"
        },
        "id": "24KU-gPtGYAC",
        "outputId": "91f6ee97-dd67-4ad1-a586-4bc1608564d4"
      },
      "execution_count": null,
      "outputs": [
        {
          "output_type": "stream",
          "name": "stdout",
          "text": [
            "Enter string: ABCDENDFGH, ijkl\n",
            "\n",
            "A BiCjDkElNDFGH\n",
            "\n"
          ]
        }
      ]
    }
  ]
}